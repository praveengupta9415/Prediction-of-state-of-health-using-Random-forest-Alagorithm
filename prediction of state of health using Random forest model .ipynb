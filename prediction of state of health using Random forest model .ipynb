{
 "cells": [
  {
   "cell_type": "code",
   "execution_count": 1,
   "id": "05fbff62",
   "metadata": {},
   "outputs": [],
   "source": [
    "import numpy as np\n",
    "import matplotlib.pyplot as plt\n",
    "import pandas as pd\n",
    "from sklearn.model_selection import train_test_split\n",
    "from sklearn.ensemble import RandomForestRegressor\n",
    "from sklearn.metrics import mean_squared_error, r2_score"
   ]
  },
  {
   "cell_type": "code",
   "execution_count": 2,
   "id": "fcb3ef31",
   "metadata": {},
   "outputs": [
    {
     "data": {
      "text/html": [
       "<div>\n",
       "<style scoped>\n",
       "    .dataframe tbody tr th:only-of-type {\n",
       "        vertical-align: middle;\n",
       "    }\n",
       "\n",
       "    .dataframe tbody tr th {\n",
       "        vertical-align: top;\n",
       "    }\n",
       "\n",
       "    .dataframe thead th {\n",
       "        text-align: right;\n",
       "    }\n",
       "</style>\n",
       "<table border=\"1\" class=\"dataframe\">\n",
       "  <thead>\n",
       "    <tr style=\"text-align: right;\">\n",
       "      <th></th>\n",
       "      <th>cycle</th>\n",
       "      <th>ambient_temperature</th>\n",
       "      <th>datetime</th>\n",
       "      <th>capacity</th>\n",
       "      <th>voltage_measured</th>\n",
       "      <th>current_measured</th>\n",
       "      <th>temperature_measured</th>\n",
       "      <th>current_load</th>\n",
       "      <th>voltage_load</th>\n",
       "      <th>time</th>\n",
       "    </tr>\n",
       "  </thead>\n",
       "  <tbody>\n",
       "    <tr>\n",
       "      <th>0</th>\n",
       "      <td>1</td>\n",
       "      <td>24</td>\n",
       "      <td>2008-04-02 15:25:41</td>\n",
       "      <td>2.035338</td>\n",
       "      <td>4.179800</td>\n",
       "      <td>-0.002366</td>\n",
       "      <td>24.277568</td>\n",
       "      <td>-0.0006</td>\n",
       "      <td>0.000</td>\n",
       "      <td>0.000</td>\n",
       "    </tr>\n",
       "    <tr>\n",
       "      <th>1</th>\n",
       "      <td>1</td>\n",
       "      <td>24</td>\n",
       "      <td>2008-04-02 15:25:41</td>\n",
       "      <td>2.035338</td>\n",
       "      <td>4.179823</td>\n",
       "      <td>0.000434</td>\n",
       "      <td>24.277073</td>\n",
       "      <td>-0.0006</td>\n",
       "      <td>4.195</td>\n",
       "      <td>16.781</td>\n",
       "    </tr>\n",
       "    <tr>\n",
       "      <th>2</th>\n",
       "      <td>1</td>\n",
       "      <td>24</td>\n",
       "      <td>2008-04-02 15:25:41</td>\n",
       "      <td>2.035338</td>\n",
       "      <td>3.966528</td>\n",
       "      <td>-2.014242</td>\n",
       "      <td>24.366226</td>\n",
       "      <td>-1.9990</td>\n",
       "      <td>3.070</td>\n",
       "      <td>35.703</td>\n",
       "    </tr>\n",
       "    <tr>\n",
       "      <th>3</th>\n",
       "      <td>1</td>\n",
       "      <td>24</td>\n",
       "      <td>2008-04-02 15:25:41</td>\n",
       "      <td>2.035338</td>\n",
       "      <td>3.945886</td>\n",
       "      <td>-2.008730</td>\n",
       "      <td>24.515123</td>\n",
       "      <td>-1.9990</td>\n",
       "      <td>3.045</td>\n",
       "      <td>53.781</td>\n",
       "    </tr>\n",
       "    <tr>\n",
       "      <th>4</th>\n",
       "      <td>1</td>\n",
       "      <td>24</td>\n",
       "      <td>2008-04-02 15:25:41</td>\n",
       "      <td>2.035338</td>\n",
       "      <td>3.930354</td>\n",
       "      <td>-2.013381</td>\n",
       "      <td>24.676053</td>\n",
       "      <td>-1.9990</td>\n",
       "      <td>3.026</td>\n",
       "      <td>71.922</td>\n",
       "    </tr>\n",
       "    <tr>\n",
       "      <th>5</th>\n",
       "      <td>1</td>\n",
       "      <td>24</td>\n",
       "      <td>2008-04-02 15:25:41</td>\n",
       "      <td>2.035338</td>\n",
       "      <td>3.917440</td>\n",
       "      <td>-2.011192</td>\n",
       "      <td>24.853025</td>\n",
       "      <td>-1.9990</td>\n",
       "      <td>3.011</td>\n",
       "      <td>90.094</td>\n",
       "    </tr>\n",
       "    <tr>\n",
       "      <th>6</th>\n",
       "      <td>1</td>\n",
       "      <td>24</td>\n",
       "      <td>2008-04-02 15:25:41</td>\n",
       "      <td>2.035338</td>\n",
       "      <td>3.906451</td>\n",
       "      <td>-2.010007</td>\n",
       "      <td>25.018929</td>\n",
       "      <td>-1.9990</td>\n",
       "      <td>3.002</td>\n",
       "      <td>108.281</td>\n",
       "    </tr>\n",
       "    <tr>\n",
       "      <th>7</th>\n",
       "      <td>1</td>\n",
       "      <td>24</td>\n",
       "      <td>2008-04-02 15:25:41</td>\n",
       "      <td>2.035338</td>\n",
       "      <td>3.896511</td>\n",
       "      <td>-2.010279</td>\n",
       "      <td>25.204449</td>\n",
       "      <td>-1.9990</td>\n",
       "      <td>2.993</td>\n",
       "      <td>126.453</td>\n",
       "    </tr>\n",
       "    <tr>\n",
       "      <th>8</th>\n",
       "      <td>1</td>\n",
       "      <td>24</td>\n",
       "      <td>2008-04-02 15:25:41</td>\n",
       "      <td>2.035338</td>\n",
       "      <td>3.887994</td>\n",
       "      <td>-2.007998</td>\n",
       "      <td>25.380117</td>\n",
       "      <td>-1.9990</td>\n",
       "      <td>2.985</td>\n",
       "      <td>144.641</td>\n",
       "    </tr>\n",
       "    <tr>\n",
       "      <th>9</th>\n",
       "      <td>1</td>\n",
       "      <td>24</td>\n",
       "      <td>2008-04-02 15:25:41</td>\n",
       "      <td>2.035338</td>\n",
       "      <td>3.880200</td>\n",
       "      <td>-2.012029</td>\n",
       "      <td>25.554437</td>\n",
       "      <td>-1.9990</td>\n",
       "      <td>2.977</td>\n",
       "      <td>162.844</td>\n",
       "    </tr>\n",
       "    <tr>\n",
       "      <th>10</th>\n",
       "      <td>1</td>\n",
       "      <td>24</td>\n",
       "      <td>2008-04-02 15:25:41</td>\n",
       "      <td>2.035338</td>\n",
       "      <td>3.872695</td>\n",
       "      <td>-2.012366</td>\n",
       "      <td>25.732284</td>\n",
       "      <td>-1.9990</td>\n",
       "      <td>2.972</td>\n",
       "      <td>181.016</td>\n",
       "    </tr>\n",
       "    <tr>\n",
       "      <th>11</th>\n",
       "      <td>1</td>\n",
       "      <td>24</td>\n",
       "      <td>2008-04-02 15:25:41</td>\n",
       "      <td>2.035338</td>\n",
       "      <td>3.866087</td>\n",
       "      <td>-2.012571</td>\n",
       "      <td>25.903402</td>\n",
       "      <td>-1.9990</td>\n",
       "      <td>2.964</td>\n",
       "      <td>199.219</td>\n",
       "    </tr>\n",
       "    <tr>\n",
       "      <th>12</th>\n",
       "      <td>1</td>\n",
       "      <td>24</td>\n",
       "      <td>2008-04-02 15:25:41</td>\n",
       "      <td>2.035338</td>\n",
       "      <td>3.859562</td>\n",
       "      <td>-2.009890</td>\n",
       "      <td>26.065275</td>\n",
       "      <td>-1.9990</td>\n",
       "      <td>2.959</td>\n",
       "      <td>217.391</td>\n",
       "    </tr>\n",
       "    <tr>\n",
       "      <th>13</th>\n",
       "      <td>1</td>\n",
       "      <td>24</td>\n",
       "      <td>2008-04-02 15:25:41</td>\n",
       "      <td>2.035338</td>\n",
       "      <td>3.853445</td>\n",
       "      <td>-2.010512</td>\n",
       "      <td>26.218011</td>\n",
       "      <td>-1.9990</td>\n",
       "      <td>2.953</td>\n",
       "      <td>235.594</td>\n",
       "    </tr>\n",
       "    <tr>\n",
       "      <th>14</th>\n",
       "      <td>1</td>\n",
       "      <td>24</td>\n",
       "      <td>2008-04-02 15:25:41</td>\n",
       "      <td>2.035338</td>\n",
       "      <td>3.847748</td>\n",
       "      <td>-2.009675</td>\n",
       "      <td>26.368552</td>\n",
       "      <td>-1.9990</td>\n",
       "      <td>2.947</td>\n",
       "      <td>253.750</td>\n",
       "    </tr>\n",
       "    <tr>\n",
       "      <th>15</th>\n",
       "      <td>1</td>\n",
       "      <td>24</td>\n",
       "      <td>2008-04-02 15:25:41</td>\n",
       "      <td>2.035338</td>\n",
       "      <td>3.842070</td>\n",
       "      <td>-2.008841</td>\n",
       "      <td>26.541701</td>\n",
       "      <td>-1.9990</td>\n",
       "      <td>2.942</td>\n",
       "      <td>271.984</td>\n",
       "    </tr>\n",
       "    <tr>\n",
       "      <th>16</th>\n",
       "      <td>1</td>\n",
       "      <td>24</td>\n",
       "      <td>2008-04-02 15:25:41</td>\n",
       "      <td>2.035338</td>\n",
       "      <td>3.836915</td>\n",
       "      <td>-2.010977</td>\n",
       "      <td>26.691009</td>\n",
       "      <td>-1.9990</td>\n",
       "      <td>2.937</td>\n",
       "      <td>290.141</td>\n",
       "    </tr>\n",
       "    <tr>\n",
       "      <th>17</th>\n",
       "      <td>1</td>\n",
       "      <td>24</td>\n",
       "      <td>2008-04-02 15:25:41</td>\n",
       "      <td>2.035338</td>\n",
       "      <td>3.831430</td>\n",
       "      <td>-2.009843</td>\n",
       "      <td>26.856101</td>\n",
       "      <td>-1.9990</td>\n",
       "      <td>2.932</td>\n",
       "      <td>308.359</td>\n",
       "    </tr>\n",
       "    <tr>\n",
       "      <th>18</th>\n",
       "      <td>1</td>\n",
       "      <td>24</td>\n",
       "      <td>2008-04-02 15:25:41</td>\n",
       "      <td>2.035338</td>\n",
       "      <td>3.826466</td>\n",
       "      <td>-2.012514</td>\n",
       "      <td>27.008017</td>\n",
       "      <td>-1.9990</td>\n",
       "      <td>2.928</td>\n",
       "      <td>326.500</td>\n",
       "    </tr>\n",
       "    <tr>\n",
       "      <th>19</th>\n",
       "      <td>1</td>\n",
       "      <td>24</td>\n",
       "      <td>2008-04-02 15:25:41</td>\n",
       "      <td>2.035338</td>\n",
       "      <td>3.821684</td>\n",
       "      <td>-2.010837</td>\n",
       "      <td>27.163719</td>\n",
       "      <td>-1.9990</td>\n",
       "      <td>2.923</td>\n",
       "      <td>344.750</td>\n",
       "    </tr>\n",
       "  </tbody>\n",
       "</table>\n",
       "</div>"
      ],
      "text/plain": [
       "    cycle  ambient_temperature             datetime  capacity  \\\n",
       "0       1                   24  2008-04-02 15:25:41  2.035338   \n",
       "1       1                   24  2008-04-02 15:25:41  2.035338   \n",
       "2       1                   24  2008-04-02 15:25:41  2.035338   \n",
       "3       1                   24  2008-04-02 15:25:41  2.035338   \n",
       "4       1                   24  2008-04-02 15:25:41  2.035338   \n",
       "5       1                   24  2008-04-02 15:25:41  2.035338   \n",
       "6       1                   24  2008-04-02 15:25:41  2.035338   \n",
       "7       1                   24  2008-04-02 15:25:41  2.035338   \n",
       "8       1                   24  2008-04-02 15:25:41  2.035338   \n",
       "9       1                   24  2008-04-02 15:25:41  2.035338   \n",
       "10      1                   24  2008-04-02 15:25:41  2.035338   \n",
       "11      1                   24  2008-04-02 15:25:41  2.035338   \n",
       "12      1                   24  2008-04-02 15:25:41  2.035338   \n",
       "13      1                   24  2008-04-02 15:25:41  2.035338   \n",
       "14      1                   24  2008-04-02 15:25:41  2.035338   \n",
       "15      1                   24  2008-04-02 15:25:41  2.035338   \n",
       "16      1                   24  2008-04-02 15:25:41  2.035338   \n",
       "17      1                   24  2008-04-02 15:25:41  2.035338   \n",
       "18      1                   24  2008-04-02 15:25:41  2.035338   \n",
       "19      1                   24  2008-04-02 15:25:41  2.035338   \n",
       "\n",
       "    voltage_measured  current_measured  temperature_measured  current_load  \\\n",
       "0           4.179800         -0.002366             24.277568       -0.0006   \n",
       "1           4.179823          0.000434             24.277073       -0.0006   \n",
       "2           3.966528         -2.014242             24.366226       -1.9990   \n",
       "3           3.945886         -2.008730             24.515123       -1.9990   \n",
       "4           3.930354         -2.013381             24.676053       -1.9990   \n",
       "5           3.917440         -2.011192             24.853025       -1.9990   \n",
       "6           3.906451         -2.010007             25.018929       -1.9990   \n",
       "7           3.896511         -2.010279             25.204449       -1.9990   \n",
       "8           3.887994         -2.007998             25.380117       -1.9990   \n",
       "9           3.880200         -2.012029             25.554437       -1.9990   \n",
       "10          3.872695         -2.012366             25.732284       -1.9990   \n",
       "11          3.866087         -2.012571             25.903402       -1.9990   \n",
       "12          3.859562         -2.009890             26.065275       -1.9990   \n",
       "13          3.853445         -2.010512             26.218011       -1.9990   \n",
       "14          3.847748         -2.009675             26.368552       -1.9990   \n",
       "15          3.842070         -2.008841             26.541701       -1.9990   \n",
       "16          3.836915         -2.010977             26.691009       -1.9990   \n",
       "17          3.831430         -2.009843             26.856101       -1.9990   \n",
       "18          3.826466         -2.012514             27.008017       -1.9990   \n",
       "19          3.821684         -2.010837             27.163719       -1.9990   \n",
       "\n",
       "    voltage_load     time  \n",
       "0          0.000    0.000  \n",
       "1          4.195   16.781  \n",
       "2          3.070   35.703  \n",
       "3          3.045   53.781  \n",
       "4          3.026   71.922  \n",
       "5          3.011   90.094  \n",
       "6          3.002  108.281  \n",
       "7          2.993  126.453  \n",
       "8          2.985  144.641  \n",
       "9          2.977  162.844  \n",
       "10         2.972  181.016  \n",
       "11         2.964  199.219  \n",
       "12         2.959  217.391  \n",
       "13         2.953  235.594  \n",
       "14         2.947  253.750  \n",
       "15         2.942  271.984  \n",
       "16         2.937  290.141  \n",
       "17         2.932  308.359  \n",
       "18         2.928  326.500  \n",
       "19         2.923  344.750  "
      ]
     },
     "execution_count": 2,
     "metadata": {},
     "output_type": "execute_result"
    }
   ],
   "source": [
    "# Read data from CSV file\n",
    "data = pd.read_csv(r\"C:\\Users\\DELL\\Desktop\\B0006.csv\")\n",
    "data.head(20)\n"
   ]
  },
  {
   "cell_type": "code",
   "execution_count": 4,
   "id": "76816211",
   "metadata": {},
   "outputs": [
    {
     "name": "stdout",
     "output_type": "stream",
     "text": [
      "[-6.000e-04 -6.000e-04 -1.999e+00 ...  6.000e-04  6.000e-04  6.000e-04]\n"
     ]
    }
   ],
   "source": [
    "# Extract input features (voltage_measured', 'current_measured', 'temperature_measured','voltage_load) and SOC values\n",
    "X = data[['voltage_measured', 'current_measured', 'temperature_measured','voltage_load']].values\n",
    "soh = data['current_load'].values\n",
    "print(soh)\n"
   ]
  },
  {
   "cell_type": "code",
   "execution_count": 5,
   "id": "68370640",
   "metadata": {},
   "outputs": [
    {
     "name": "stdout",
     "output_type": "stream",
     "text": [
      "[ 1.9988e+00  1.9990e+00  6.0000e-04  6.0000e-04  6.0000e-04  1.9988e+00\n",
      " -1.9990e+00  1.9990e+00  1.9988e+00  1.9990e+00  1.9992e+00  1.9988e+00\n",
      "  6.0000e-04  1.9990e+00  1.9990e+00  1.9988e+00  6.0000e-04  1.9990e+00\n",
      "  1.9990e+00  1.9988e+00  1.9992e+00  1.9988e+00  1.9990e+00  1.9990e+00\n",
      "  1.9990e+00  1.9990e+00 -1.9992e+00  1.9990e+00  1.9990e+00  1.9990e+00\n",
      "  1.9990e+00  1.9990e+00 -1.9990e+00  1.9990e+00  1.9990e+00  1.9988e+00\n",
      "  1.9988e+00  1.9990e+00  1.9992e+00  1.9990e+00  1.9990e+00 -1.9990e+00\n",
      "  6.0000e-04 -1.9990e+00 -1.9990e+00  6.0000e-04  1.9990e+00  1.9992e+00\n",
      "  1.9990e+00  1.9990e+00  1.9988e+00]\n"
     ]
    }
   ],
   "source": [
    "# Split the data into training and testing sets\n",
    "X_train, X_test, y_train, y_test = train_test_split(X, soc, test_size=0.001, random_state=42)\n",
    "print(y_test)"
   ]
  },
  {
   "cell_type": "code",
   "execution_count": 6,
   "id": "4bc8aa6e",
   "metadata": {},
   "outputs": [
    {
     "data": {
      "text/plain": [
       "51"
      ]
     },
     "execution_count": 6,
     "metadata": {},
     "output_type": "execute_result"
    }
   ],
   "source": [
    "len(y_test)"
   ]
  },
  {
   "cell_type": "code",
   "execution_count": 7,
   "id": "ee195fb4",
   "metadata": {},
   "outputs": [
    {
     "data": {
      "text/html": [
       "<style>#sk-container-id-1 {color: black;}#sk-container-id-1 pre{padding: 0;}#sk-container-id-1 div.sk-toggleable {background-color: white;}#sk-container-id-1 label.sk-toggleable__label {cursor: pointer;display: block;width: 100%;margin-bottom: 0;padding: 0.3em;box-sizing: border-box;text-align: center;}#sk-container-id-1 label.sk-toggleable__label-arrow:before {content: \"▸\";float: left;margin-right: 0.25em;color: #696969;}#sk-container-id-1 label.sk-toggleable__label-arrow:hover:before {color: black;}#sk-container-id-1 div.sk-estimator:hover label.sk-toggleable__label-arrow:before {color: black;}#sk-container-id-1 div.sk-toggleable__content {max-height: 0;max-width: 0;overflow: hidden;text-align: left;background-color: #f0f8ff;}#sk-container-id-1 div.sk-toggleable__content pre {margin: 0.2em;color: black;border-radius: 0.25em;background-color: #f0f8ff;}#sk-container-id-1 input.sk-toggleable__control:checked~div.sk-toggleable__content {max-height: 200px;max-width: 100%;overflow: auto;}#sk-container-id-1 input.sk-toggleable__control:checked~label.sk-toggleable__label-arrow:before {content: \"▾\";}#sk-container-id-1 div.sk-estimator input.sk-toggleable__control:checked~label.sk-toggleable__label {background-color: #d4ebff;}#sk-container-id-1 div.sk-label input.sk-toggleable__control:checked~label.sk-toggleable__label {background-color: #d4ebff;}#sk-container-id-1 input.sk-hidden--visually {border: 0;clip: rect(1px 1px 1px 1px);clip: rect(1px, 1px, 1px, 1px);height: 1px;margin: -1px;overflow: hidden;padding: 0;position: absolute;width: 1px;}#sk-container-id-1 div.sk-estimator {font-family: monospace;background-color: #f0f8ff;border: 1px dotted black;border-radius: 0.25em;box-sizing: border-box;margin-bottom: 0.5em;}#sk-container-id-1 div.sk-estimator:hover {background-color: #d4ebff;}#sk-container-id-1 div.sk-parallel-item::after {content: \"\";width: 100%;border-bottom: 1px solid gray;flex-grow: 1;}#sk-container-id-1 div.sk-label:hover label.sk-toggleable__label {background-color: #d4ebff;}#sk-container-id-1 div.sk-serial::before {content: \"\";position: absolute;border-left: 1px solid gray;box-sizing: border-box;top: 0;bottom: 0;left: 50%;z-index: 0;}#sk-container-id-1 div.sk-serial {display: flex;flex-direction: column;align-items: center;background-color: white;padding-right: 0.2em;padding-left: 0.2em;position: relative;}#sk-container-id-1 div.sk-item {position: relative;z-index: 1;}#sk-container-id-1 div.sk-parallel {display: flex;align-items: stretch;justify-content: center;background-color: white;position: relative;}#sk-container-id-1 div.sk-item::before, #sk-container-id-1 div.sk-parallel-item::before {content: \"\";position: absolute;border-left: 1px solid gray;box-sizing: border-box;top: 0;bottom: 0;left: 50%;z-index: -1;}#sk-container-id-1 div.sk-parallel-item {display: flex;flex-direction: column;z-index: 1;position: relative;background-color: white;}#sk-container-id-1 div.sk-parallel-item:first-child::after {align-self: flex-end;width: 50%;}#sk-container-id-1 div.sk-parallel-item:last-child::after {align-self: flex-start;width: 50%;}#sk-container-id-1 div.sk-parallel-item:only-child::after {width: 0;}#sk-container-id-1 div.sk-dashed-wrapped {border: 1px dashed gray;margin: 0 0.4em 0.5em 0.4em;box-sizing: border-box;padding-bottom: 0.4em;background-color: white;}#sk-container-id-1 div.sk-label label {font-family: monospace;font-weight: bold;display: inline-block;line-height: 1.2em;}#sk-container-id-1 div.sk-label-container {text-align: center;}#sk-container-id-1 div.sk-container {/* jupyter's `normalize.less` sets `[hidden] { display: none; }` but bootstrap.min.css set `[hidden] { display: none !important; }` so we also need the `!important` here to be able to override the default hidden behavior on the sphinx rendered scikit-learn.org. See: https://github.com/scikit-learn/scikit-learn/issues/21755 */display: inline-block !important;position: relative;}#sk-container-id-1 div.sk-text-repr-fallback {display: none;}</style><div id=\"sk-container-id-1\" class=\"sk-top-container\"><div class=\"sk-text-repr-fallback\"><pre>RandomForestRegressor(random_state=42)</pre><b>In a Jupyter environment, please rerun this cell to show the HTML representation or trust the notebook. <br />On GitHub, the HTML representation is unable to render, please try loading this page with nbviewer.org.</b></div><div class=\"sk-container\" hidden><div class=\"sk-item\"><div class=\"sk-estimator sk-toggleable\"><input class=\"sk-toggleable__control sk-hidden--visually\" id=\"sk-estimator-id-1\" type=\"checkbox\" checked><label for=\"sk-estimator-id-1\" class=\"sk-toggleable__label sk-toggleable__label-arrow\">RandomForestRegressor</label><div class=\"sk-toggleable__content\"><pre>RandomForestRegressor(random_state=42)</pre></div></div></div></div></div>"
      ],
      "text/plain": [
       "RandomForestRegressor(random_state=42)"
      ]
     },
     "execution_count": 7,
     "metadata": {},
     "output_type": "execute_result"
    }
   ],
   "source": [
    "# Train a Random Forest regressor\n",
    "random_forest_model = RandomForestRegressor(n_estimators=100, random_state=42)\n",
    "random_forest_model.fit(X_train, y_train)\n"
   ]
  },
  {
   "cell_type": "code",
   "execution_count": 8,
   "id": "12fef085",
   "metadata": {},
   "outputs": [
    {
     "name": "stdout",
     "output_type": "stream",
     "text": [
      "[ 1.998910e+00  1.918976e+00  6.660000e-04  6.320000e-04  6.120000e-04\n",
      "  1.799018e+00 -1.999006e+00  1.998986e+00  1.998984e+00  1.599204e+00\n",
      "  1.999082e+00  1.479196e+00  6.240000e-04  1.998998e+00  1.999016e+00\n",
      "  1.998874e+00  6.200000e-04  1.919036e+00  1.999166e+00  1.998954e+00\n",
      "  1.999090e+00  1.998800e+00  1.919150e+00  1.959020e+00  1.998972e+00\n",
      "  1.919052e+00 -1.999082e+00  1.998874e+00  1.998962e+00  1.998996e+00\n",
      "  1.959006e+00  1.999030e+00 -1.159416e+00  1.919050e+00  1.998864e+00\n",
      "  1.998812e+00  1.998964e+00  1.759134e+00  1.959008e+00  1.999012e+00\n",
      "  1.998986e+00 -1.999104e+00  6.320000e-04 -9.594780e-01  3.198100e-01\n",
      "  6.600000e-04  1.799100e+00  1.999156e+00  1.999140e+00  1.998922e+00\n",
      "  1.998860e+00]\n"
     ]
    }
   ],
   "source": [
    " #Make predictions on the testing set\n",
    "soh_predictions = random_forest_model.predict(X_test)\n",
    "print(soh_predictions)"
   ]
  },
  {
   "cell_type": "code",
   "execution_count": 9,
   "id": "a675528e",
   "metadata": {},
   "outputs": [],
   "source": [
    "from sklearn.metrics import mean_squared_error"
   ]
  },
  {
   "cell_type": "code",
   "execution_count": 10,
   "id": "10b90243",
   "metadata": {},
   "outputs": [
    {
     "name": "stdout",
     "output_type": "stream",
     "text": [
      "Mean Squared Error: 0.15228219960054917\n"
     ]
    }
   ],
   "source": [
    "# Assuming y_test and soc_predictions are your actual test labels and predictions\n",
    "# Calculate Mean Squared Error\n",
    "mse = mean_squared_error(y_test, soh_predictions)\n",
    "print(\"Mean Squared Error:\", mse)"
   ]
  },
  {
   "cell_type": "code",
   "execution_count": 11,
   "id": "05f041e0",
   "metadata": {},
   "outputs": [
    {
     "name": "stdout",
     "output_type": "stream",
     "text": [
      "Mean Squared Error: 0.15228219960054917\n",
      "R-squared: 0.9187442431929586\n"
     ]
    }
   ],
   "source": [
    "# Model evaluation\n",
    "mse = mean_squared_error(y_test, soh_predictions)\n",
    "r2 = r2_score(y_test, soh_predictions)\n",
    "print(\"Mean Squared Error:\", mse)\n",
    "print(\"R-squared:\", r2)\n"
   ]
  },
  {
   "cell_type": "code",
   "execution_count": 12,
   "id": "4a8fde8f",
   "metadata": {},
   "outputs": [
    {
     "data": {
      "image/png": "[encoded data removed]",
      "text/plain": [
       "<Figure size 640x480 with 1 Axes>"
      ]
     },
     "metadata": {},
     "output_type": "display_data"
    }
   ],
   "source": [
    "# Plot the true SOH values vs. predicted SOH values\n",
    "plt.scatter(y_test, soh_predictions)\n",
    "plt.plot([min(y_test), max(y_test)], [min(y_test), max(y_test)], '--', color='red')  # Diagonal line\n",
    "plt.xlabel('True SOH')\n",
    "plt.ylabel('Predicted SOH')\n",
    "plt.title('True SOH vs. Predicted SOH (Random Forest)')\n",
    "plt.grid(True)\n",
    "plt.show()"
   ]
  },
  {
   "cell_type": "code",
   "execution_count": 13,
   "id": "bffb2898",
   "metadata": {},
   "outputs": [
    {
     "name": "stdout",
     "output_type": "stream",
     "text": [
      "    Actual state of charging  Predicted state of charging \n",
      "0                     1.9988                      1.998910\n",
      "1                     1.9990                      1.918976\n",
      "2                     0.0006                      0.000666\n",
      "3                     0.0006                      0.000632\n",
      "4                     0.0006                      0.000612\n",
      "5                     1.9988                      1.799018\n",
      "6                    -1.9990                     -1.999006\n",
      "7                     1.9990                      1.998986\n",
      "8                     1.9988                      1.998984\n",
      "9                     1.9990                      1.599204\n",
      "10                    1.9992                      1.999082\n",
      "11                    1.9988                      1.479196\n",
      "12                    0.0006                      0.000624\n",
      "13                    1.9990                      1.998998\n",
      "14                    1.9990                      1.999016\n",
      "15                    1.9988                      1.998874\n",
      "16                    0.0006                      0.000620\n",
      "17                    1.9990                      1.919036\n",
      "18                    1.9990                      1.999166\n",
      "19                    1.9988                      1.998954\n",
      "20                    1.9992                      1.999090\n",
      "21                    1.9988                      1.998800\n",
      "22                    1.9990                      1.919150\n",
      "23                    1.9990                      1.959020\n",
      "24                    1.9990                      1.998972\n",
      "25                    1.9990                      1.919052\n",
      "26                   -1.9992                     -1.999082\n",
      "27                    1.9990                      1.998874\n",
      "28                    1.9990                      1.998962\n",
      "29                    1.9990                      1.998996\n",
      "30                    1.9990                      1.959006\n",
      "31                    1.9990                      1.999030\n",
      "32                   -1.9990                     -1.159416\n",
      "33                    1.9990                      1.919050\n",
      "34                    1.9990                      1.998864\n",
      "35                    1.9988                      1.998812\n",
      "36                    1.9988                      1.998964\n",
      "37                    1.9990                      1.759134\n",
      "38                    1.9992                      1.959008\n",
      "39                    1.9990                      1.999012\n",
      "40                    1.9990                      1.998986\n",
      "41                   -1.9990                     -1.999104\n",
      "42                    0.0006                      0.000632\n",
      "43                   -1.9990                     -0.959478\n",
      "44                   -1.9990                      0.319810\n",
      "45                    0.0006                      0.000660\n",
      "46                    1.9990                      1.799100\n",
      "47                    1.9992                      1.999156\n",
      "48                    1.9990                      1.999140\n",
      "49                    1.9990                      1.998922\n",
      "50                    1.9988                      1.998860\n"
     ]
    }
   ],
   "source": [
    "predictions_df = pd.DataFrame({\n",
    "    'Actual state of charging': (y_test),# current load other name state of health\n",
    "\n",
    "    'Predicted state of charging ': (soh_predictions)\n",
    "})\n",
    "\n",
    "# Display the DataFrame\n",
    "print(predictions_df)"
   ]
  },
  {
   "cell_type": "code",
   "execution_count": 14,
   "id": "dca7ee3c",
   "metadata": {},
   "outputs": [],
   "source": [
    "from sklearn.metrics import confusion_matrix"
   ]
  },
  {
   "cell_type": "code",
   "execution_count": 15,
   "id": "9049a334",
   "metadata": {},
   "outputs": [
    {
     "name": "stdout",
     "output_type": "stream",
     "text": [
      "[ 1.9988e+00  1.9990e+00  6.0000e-04  6.0000e-04  6.0000e-04  1.9988e+00\n",
      " -1.9990e+00  1.9990e+00  1.9988e+00  1.9990e+00  1.9992e+00  1.9988e+00\n",
      "  6.0000e-04  1.9990e+00  1.9990e+00  1.9988e+00  6.0000e-04  1.9990e+00\n",
      "  1.9990e+00  1.9988e+00  1.9992e+00  1.9988e+00  1.9990e+00  1.9990e+00\n",
      "  1.9990e+00  1.9990e+00 -1.9992e+00  1.9990e+00  1.9990e+00  1.9990e+00\n",
      "  1.9990e+00  1.9990e+00 -1.9990e+00  1.9990e+00  1.9990e+00  1.9988e+00\n",
      "  1.9988e+00  1.9990e+00  1.9992e+00  1.9990e+00  1.9990e+00 -1.9990e+00\n",
      "  6.0000e-04 -1.9990e+00 -1.9990e+00  6.0000e-04  1.9990e+00  1.9992e+00\n",
      "  1.9990e+00  1.9990e+00  1.9988e+00]\n"
     ]
    }
   ],
   "source": [
    "print(y_test)"
   ]
  },
  {
   "cell_type": "code",
   "execution_count": 16,
   "id": "2f7ac498",
   "metadata": {},
   "outputs": [
    {
     "name": "stdout",
     "output_type": "stream",
     "text": [
      "[ 1.998910e+00  1.918976e+00  6.660000e-04  6.320000e-04  6.120000e-04\n",
      "  1.799018e+00 -1.999006e+00  1.998986e+00  1.998984e+00  1.599204e+00\n",
      "  1.999082e+00  1.479196e+00  6.240000e-04  1.998998e+00  1.999016e+00\n",
      "  1.998874e+00  6.200000e-04  1.919036e+00  1.999166e+00  1.998954e+00\n",
      "  1.999090e+00  1.998800e+00  1.919150e+00  1.959020e+00  1.998972e+00\n",
      "  1.919052e+00 -1.999082e+00  1.998874e+00  1.998962e+00  1.998996e+00\n",
      "  1.959006e+00  1.999030e+00 -1.159416e+00  1.919050e+00  1.998864e+00\n",
      "  1.998812e+00  1.998964e+00  1.759134e+00  1.959008e+00  1.999012e+00\n",
      "  1.998986e+00 -1.999104e+00  6.320000e-04 -9.594780e-01  3.198100e-01\n",
      "  6.600000e-04  1.799100e+00  1.999156e+00  1.999140e+00  1.998922e+00\n",
      "  1.998860e+00]\n"
     ]
    }
   ],
   "source": [
    "print(soh_predictions)"
   ]
  },
  {
   "cell_type": "code",
   "execution_count": 17,
   "id": "b1799ce5",
   "metadata": {},
   "outputs": [],
   "source": [
    " #Convert predictions and true labels to binary format\n",
    "# For example, let's assume we're interested in binary classification where 1 is positive and 0 is negative\n",
    "threshold = 0.5  # You can adjust this threshold based on your problem\n",
    "y_pred_binary = [1 if pred >= threshold else 0 for pred in soh_predictions]\n",
    "y_true_binary = [1 if true >= threshold else 0 for true in y_test]"
   ]
  },
  {
   "cell_type": "code",
   "execution_count": 18,
   "id": "b25795d2",
   "metadata": {},
   "outputs": [
    {
     "name": "stdout",
     "output_type": "stream",
     "text": [
      "[1, 1, 0, 0, 0, 1, 0, 1, 1, 1, 1, 1, 0, 1, 1, 1, 0, 1, 1, 1, 1, 1, 1, 1, 1, 1, 0, 1, 1, 1, 1, 1, 0, 1, 1, 1, 1, 1, 1, 1, 1, 0, 0, 0, 0, 0, 1, 1, 1, 1, 1]\n"
     ]
    }
   ],
   "source": [
    "print(y_true_binary)"
   ]
  },
  {
   "cell_type": "code",
   "execution_count": 19,
   "id": "cc235f85",
   "metadata": {},
   "outputs": [
    {
     "name": "stdout",
     "output_type": "stream",
     "text": [
      "[1, 1, 0, 0, 0, 1, 0, 1, 1, 1, 1, 1, 0, 1, 1, 1, 0, 1, 1, 1, 1, 1, 1, 1, 1, 1, 0, 1, 1, 1, 1, 1, 0, 1, 1, 1, 1, 1, 1, 1, 1, 0, 0, 0, 0, 0, 1, 1, 1, 1, 1]\n"
     ]
    }
   ],
   "source": [
    "print(y_pred_binary)"
   ]
  },
  {
   "cell_type": "code",
   "execution_count": 20,
   "id": "b3bfd926",
   "metadata": {},
   "outputs": [
    {
     "name": "stdout",
     "output_type": "stream",
     "text": [
      "Confusion Matrix:\n",
      "[[13  0]\n",
      " [ 0 38]]\n"
     ]
    }
   ],
   "source": [
    "conf_matrix = confusion_matrix(y_true_binary,y_pred_binary )\n",
    "\n",
    "print(\"Confusion Matrix:\")\n",
    "print(conf_matrix)"
   ]
  },
  {
   "cell_type": "code",
   "execution_count": 21,
   "id": "0bcf2160",
   "metadata": {},
   "outputs": [],
   "source": [
    "from sklearn.metrics import f1_score"
   ]
  },
  {
   "cell_type": "code",
   "execution_count": 22,
   "id": "30312f94",
   "metadata": {},
   "outputs": [
    {
     "name": "stdout",
     "output_type": "stream",
     "text": [
      "F1 Score: 1.0\n"
     ]
    }
   ],
   "source": [
    "# Calculate F1 score\n",
    "f1 = f1_score(y_true_binary, y_pred_binary, average='weighted')\n",
    "print(\"F1 Score:\", f1)"
   ]
  },
  {
   "cell_type": "code",
   "execution_count": 23,
   "id": "64b14320",
   "metadata": {},
   "outputs": [
    {
     "data": {
      "image/png": "[encoded data removed]",
      "text/plain": [
       "<Figure size 800x600 with 1 Axes>"
      ]
     },
     "metadata": {},
     "output_type": "display_data"
    }
   ],
   "source": [
    "# Plot F1 score\n",
    "plt.figure(figsize=(8, 6))\n",
    "plt.bar([\"Random Forest\"], [f1], color='skyblue')\n",
    "plt.title(\"F1 Score Comparison\")\n",
    "plt.xlabel(\"Algorithm\")\n",
    "plt.ylabel(\"F1 Score\")\n",
    "plt.ylim(0, 1)\n",
    "plt.show()"
   ]
  },
  {
   "cell_type": "code",
   "execution_count": 24,
   "id": "c34955e1",
   "metadata": {},
   "outputs": [
    {
     "name": "stdout",
     "output_type": "stream",
     "text": [
      "Length of y_test: 51\n",
      "Length of soh_predictions: 51\n"
     ]
    }
   ],
   "source": [
    "# Ensure that soc_predictions contain valid class labels and is of the same length as y_test\n",
    "print(\"Length of y_test:\", len(y_test))\n",
    "print(\"Length of soh_predictions:\", len(soh_predictions))"
   ]
  },
  {
   "cell_type": "code",
   "execution_count": 25,
   "id": "b873c39e",
   "metadata": {},
   "outputs": [],
   "source": [
    "import seaborn as sns"
   ]
  },
  {
   "cell_type": "code",
   "execution_count": 26,
   "id": "32c382a4",
   "metadata": {},
   "outputs": [
    {
     "data": {
      "image/png": "[encoded data removed]",
      "text/plain": [
       "<Figure size 800x600 with 1 Axes>"
      ]
     },
     "metadata": {},
     "output_type": "display_data"
    }
   ],
   "source": [
    "# Plot confusion matrix\n",
    "plt.figure(figsize=(8, 6))\n",
    "sns.heatmap(conf_matrix, annot=True, fmt=\"d\", cmap=\"Reds\", cbar=False)\n",
    "plt.title(\"Confusion Matrix\")\n",
    "plt.xlabel(\"y_pred_binary\")\n",
    "plt.ylabel(\"y_true_binar\")\n",
    "plt.show()"
   ]
  },
  {
   "cell_type": "code",
   "execution_count": null,
   "id": "e9f924a6",
   "metadata": {},
   "outputs": [],
   "source": []
  }
 ],
 "metadata": {
  "kernelspec": {
   "display_name": "Python 3 (ipykernel)",
   "language": "python",
   "name": "python3"
  },
  "language_info": {
   "codemirror_mode": {
    "name": "ipython",
    "version": 3
   },
   "file_extension": ".py",
   "mimetype": "text/x-python",
   "name": "python",
   "nbconvert_exporter": "python",
   "pygments_lexer": "ipython3",
   "version": "3.10.13"
  }
 },
 "nbformat": 4,
 "nbformat_minor": 5
}
